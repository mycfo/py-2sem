{
 "cells": [
  {
   "cell_type": "markdown",
   "metadata": {},
   "source": [
    "Mamy dataset zakładów bukmacherskich za lata 2009-2012 zrobiąnych po linii Pinnacle jednym syndykatem.\n",
    "\n",
    "Glosariusz:\n",
    "- Opening odds (op, OP) - linii otwarcia (czas, gdy bukmacher dopiero otwiera kursy na mecz)\n",
    "- Closing odds (cl, CL) - linia zamknięcia (kursy za >4 min do początku meczu)\n",
    "- WIN1 - zwycięstwo gospodarze\n",
    "- X - remis\n",
    "- WIN2 - zwycięstwo gości\n",
    "\n",
    "\n",
    "WIN2OP/WIN2CL - to kursy linii otwarcia i linii zamknięcia na zwycięstwo gości odpowiednie."
   ]
  },
  {
   "cell_type": "code",
   "execution_count": 37,
   "metadata": {},
   "outputs": [],
   "source": [
    "import pandas as pd\n",
    "import matplotlib as plt\n",
    "import numpy as np\n",
    "import matplotlib.pyplot as plt"
   ]
  },
  {
   "cell_type": "code",
   "execution_count": 4,
   "metadata": {},
   "outputs": [],
   "source": [
    "df = pd.read_excel('/home/obl/cdvprojects/bets/baza.xlsx')"
   ]
  },
  {
   "cell_type": "code",
   "execution_count": 5,
   "metadata": {},
   "outputs": [
    {
     "name": "stdout",
     "output_type": "stream",
     "text": [
      "<class 'pandas.core.frame.DataFrame'>\n",
      "RangeIndex: 37853 entries, 0 to 37852\n",
      "Data columns (total 35 columns):\n",
      " #   Column        Non-Null Count  Dtype  \n",
      "---  ------        --------------  -----  \n",
      " 0   Year          37853 non-null  int64  \n",
      " 1   Date          37853 non-null  object \n",
      " 2   Country       37853 non-null  object \n",
      " 3   Tournament    37853 non-null  object \n",
      " 4   Match         37853 non-null  object \n",
      " 5   Opening odds  37853 non-null  float64\n",
      " 6   XOP           37853 non-null  float64\n",
      " 7   WIN2-op       37853 non-null  float64\n",
      " 8   Closing odds  37853 non-null  float64\n",
      " 9   XCL           37853 non-null  float64\n",
      " 10  WIN2-cl       37853 non-null  float64\n",
      " 11  HT            37831 non-null  object \n",
      " 12  FT            37853 non-null  object \n",
      " 13  TOTAL FT      37853 non-null  int64  \n",
      " 14  HTG1          37831 non-null  float64\n",
      " 15  HTG2          37831 non-null  float64\n",
      " 16  FTG1          37853 non-null  int64  \n",
      " 17  FTG2          37853 non-null  int64  \n",
      " 18  BET1          37853 non-null  int64  \n",
      " 19  BETX          37853 non-null  int64  \n",
      " 20  BET2          37853 non-null  int64  \n",
      " 21  W1            37853 non-null  float64\n",
      " 22  X2            37853 non-null  float64\n",
      " 23  W2            37853 non-null  float64\n",
      " 24  W18           37853 non-null  float64\n",
      " 25  X9            37853 non-null  float64\n",
      " 26  W210          37853 non-null  float64\n",
      " 27  MarginOP      37853 non-null  float64\n",
      " 28  MarginCL      37853 non-null  float64\n",
      " 29  WIN1OP        37853 non-null  float64\n",
      " 30  XOP.1         37853 non-null  float64\n",
      " 31  WIN2OP        37853 non-null  float64\n",
      " 32  WIN1CL        37853 non-null  float64\n",
      " 33  XCL.1         37853 non-null  float64\n",
      " 34  WIN2CL        37853 non-null  float64\n",
      "dtypes: float64(22), int64(7), object(6)\n",
      "memory usage: 10.1+ MB\n"
     ]
    }
   ],
   "source": [
    "df.info()"
   ]
  },
  {
   "cell_type": "markdown",
   "metadata": {},
   "source": [
    "Wykorzystujemy funkcje opisu kursów po linii otwarcia i zamknięcia. Widzimy, że średnia na WIN1 - 2,539 po linii otwarcia a 2,559 po linii zamknięcia. Oraz bliżej do meczu rośnie odchylenie standardowe."
   ]
  },
  {
   "cell_type": "code",
   "execution_count": 6,
   "metadata": {},
   "outputs": [
    {
     "data": {
      "text/plain": [
       "count    37853.000000\n",
       "mean         2.539868\n",
       "std          1.516585\n",
       "min          1.040000\n",
       "25%          1.770000\n",
       "50%          2.160000\n",
       "75%          2.740000\n",
       "max         47.000000\n",
       "Name: Opening odds, dtype: float64"
      ]
     },
     "execution_count": 6,
     "metadata": {},
     "output_type": "execute_result"
    }
   ],
   "source": [
    "df['Opening odds'].describe()"
   ]
  },
  {
   "cell_type": "code",
   "execution_count": 7,
   "metadata": {},
   "outputs": [
    {
     "data": {
      "text/plain": [
       "count    37853.000000\n",
       "mean         2.559418\n",
       "std          1.542020\n",
       "min          1.040000\n",
       "25%          1.750000\n",
       "50%          2.170000\n",
       "75%          2.790000\n",
       "max         37.660000\n",
       "Name: Closing odds, dtype: float64"
      ]
     },
     "execution_count": 7,
     "metadata": {},
     "output_type": "execute_result"
    }
   ],
   "source": [
    "df['Closing odds'].describe()"
   ]
  },
  {
   "cell_type": "markdown",
   "metadata": {},
   "source": [
    "W linii na WIN2 i X też widzimy tendencje wzrostu średniego kursu i odchylenia standardowego bliżej do startu meczu. To świadczy o tym, że \"margin\" bukmachera spada, ponieważ wynik meczu bliżej do jego początku staje się więcej przewidywalny."
   ]
  },
  {
   "cell_type": "code",
   "execution_count": 8,
   "metadata": {},
   "outputs": [
    {
     "data": {
      "text/plain": [
       "count    37853.000000\n",
       "mean         3.802653\n",
       "std          0.872065\n",
       "min          1.540000\n",
       "25%          3.370000\n",
       "50%          3.550000\n",
       "75%          3.900000\n",
       "max         26.500000\n",
       "Name: XOP, dtype: float64"
      ]
     },
     "execution_count": 8,
     "metadata": {},
     "output_type": "execute_result"
    }
   ],
   "source": [
    "df['XOP'].describe()"
   ]
  },
  {
   "cell_type": "code",
   "execution_count": 9,
   "metadata": {},
   "outputs": [
    {
     "data": {
      "text/plain": [
       "count    37853.000000\n",
       "mean         4.514737\n",
       "std          3.156805\n",
       "min          1.020000\n",
       "25%          2.760000\n",
       "50%          3.640000\n",
       "75%          5.090000\n",
       "max         44.620000\n",
       "Name: WIN2-op, dtype: float64"
      ]
     },
     "execution_count": 9,
     "metadata": {},
     "output_type": "execute_result"
    }
   ],
   "source": [
    "df['WIN2-op'].describe()"
   ]
  },
  {
   "cell_type": "code",
   "execution_count": 10,
   "metadata": {},
   "outputs": [
    {
     "data": {
      "text/plain": [
       "count    37853.000000\n",
       "mean         4.590013\n",
       "std          3.349210\n",
       "min          1.070000\n",
       "25%          2.730000\n",
       "50%          3.660000\n",
       "75%          5.280000\n",
       "max         56.000000\n",
       "Name: WIN2-cl, dtype: float64"
      ]
     },
     "execution_count": 10,
     "metadata": {},
     "output_type": "execute_result"
    }
   ],
   "source": [
    "df['WIN2-cl'].describe()"
   ]
  },
  {
   "cell_type": "markdown",
   "metadata": {},
   "source": [
    "Właśnie o tym świadczy opis kolumn z \"margin\", gdzie \"mean\" zamknięcia niżej za \"mean\" otwarcia. Ogólnie to widzimy, że \"margin\" na football w linii Pinnacle zwykle niżej 3%, a bliżej do meczu praktycznie połowa kursów z \"margin\" niżej 2,5%."
   ]
  },
  {
   "cell_type": "code",
   "execution_count": 51,
   "metadata": {},
   "outputs": [
    {
     "data": {
      "text/plain": [
       "count    37853.000000\n",
       "mean         2.917134\n",
       "std          1.137406\n",
       "min        -79.887613\n",
       "25%          2.553682\n",
       "50%          2.985052\n",
       "75%          3.130203\n",
       "max         69.117647\n",
       "Name: MarginOP, dtype: float64"
      ]
     },
     "execution_count": 51,
     "metadata": {},
     "output_type": "execute_result"
    }
   ],
   "source": [
    "df['MarginOP'].describe()"
   ]
  },
  {
   "cell_type": "code",
   "execution_count": 52,
   "metadata": {},
   "outputs": [
    {
     "data": {
      "text/plain": [
       "count    37853.000000\n",
       "mean         2.646522\n",
       "std          0.745067\n",
       "min          0.004635\n",
       "25%          2.116663\n",
       "50%          2.512910\n",
       "75%          2.964830\n",
       "max         22.040059\n",
       "Name: MarginCL, dtype: float64"
      ]
     },
     "execution_count": 52,
     "metadata": {},
     "output_type": "execute_result"
    }
   ],
   "source": [
    "df['MarginCL'].describe()"
   ]
  },
  {
   "cell_type": "markdown",
   "metadata": {},
   "source": [
    "Spójrzmy na \"margin\" w różnych ligach w linii otwarcia. Widzimy, że włoska Seria A ma najmniejszy \"margin\", co jest trochę ciekawym dla głębszego badania, biorąc pod uwagę sytuacje z Juventusem 2006 roku oraz reguły gry włoskiego menedżerów. Tak że widzimy, że w tej kategorii są Skandynawia ta Niemcy gdzie na 99,9% ciężko zrobić \"match fixing\" nawet w regionalnych ligach."
   ]
  },
  {
   "cell_type": "code",
   "execution_count": 58,
   "metadata": {},
   "outputs": [
    {
     "data": {
      "text/html": [
       "<div>\n",
       "<style scoped>\n",
       "    .dataframe tbody tr th:only-of-type {\n",
       "        vertical-align: middle;\n",
       "    }\n",
       "\n",
       "    .dataframe tbody tr th {\n",
       "        vertical-align: top;\n",
       "    }\n",
       "\n",
       "    .dataframe thead th {\n",
       "        text-align: right;\n",
       "    }\n",
       "</style>\n",
       "<table border=\"1\" class=\"dataframe\">\n",
       "  <thead>\n",
       "    <tr style=\"text-align: right;\">\n",
       "      <th></th>\n",
       "      <th>MarginOP</th>\n",
       "    </tr>\n",
       "    <tr>\n",
       "      <th>Tournament</th>\n",
       "      <th></th>\n",
       "    </tr>\n",
       "  </thead>\n",
       "  <tbody>\n",
       "    <tr>\n",
       "      <th>serie-a-2012-2013</th>\n",
       "      <td>2.023726</td>\n",
       "    </tr>\n",
       "    <tr>\n",
       "      <th>serie-a-2011-2012</th>\n",
       "      <td>2.051933</td>\n",
       "    </tr>\n",
       "    <tr>\n",
       "      <th>serie-a-2010-2011</th>\n",
       "      <td>2.136468</td>\n",
       "    </tr>\n",
       "    <tr>\n",
       "      <th>serie-a-2009-2010</th>\n",
       "      <td>2.148672</td>\n",
       "    </tr>\n",
       "    <tr>\n",
       "      <th>veikkausliiga-2009</th>\n",
       "      <td>2.236222</td>\n",
       "    </tr>\n",
       "    <tr>\n",
       "      <th>2-bundesliga-2011-2012</th>\n",
       "      <td>2.244298</td>\n",
       "    </tr>\n",
       "    <tr>\n",
       "      <th>tippeligaen-2009</th>\n",
       "      <td>2.269438</td>\n",
       "    </tr>\n",
       "    <tr>\n",
       "      <th>bundesliga-2012-2013</th>\n",
       "      <td>2.323632</td>\n",
       "    </tr>\n",
       "    <tr>\n",
       "      <th>bundesliga-2011-2012</th>\n",
       "      <td>2.372986</td>\n",
       "    </tr>\n",
       "    <tr>\n",
       "      <th>allsvenskan-2009</th>\n",
       "      <td>2.374360</td>\n",
       "    </tr>\n",
       "    <tr>\n",
       "      <th>premier-league-2010-2011</th>\n",
       "      <td>2.431740</td>\n",
       "    </tr>\n",
       "    <tr>\n",
       "      <th>campeonato-brasileiro-2009</th>\n",
       "      <td>2.453969</td>\n",
       "    </tr>\n",
       "    <tr>\n",
       "      <th>ligue-1-2012-2013</th>\n",
       "      <td>2.459887</td>\n",
       "    </tr>\n",
       "    <tr>\n",
       "      <th>bundesliga-2010-2011</th>\n",
       "      <td>2.468357</td>\n",
       "    </tr>\n",
       "    <tr>\n",
       "      <th>bundesliga-2009-2010</th>\n",
       "      <td>2.474822</td>\n",
       "    </tr>\n",
       "    <tr>\n",
       "      <th>premier-league-2012-2013</th>\n",
       "      <td>2.492852</td>\n",
       "    </tr>\n",
       "    <tr>\n",
       "      <th>ligue-1-2011-2012</th>\n",
       "      <td>2.514859</td>\n",
       "    </tr>\n",
       "    <tr>\n",
       "      <th>championship-2012-2013</th>\n",
       "      <td>2.516588</td>\n",
       "    </tr>\n",
       "    <tr>\n",
       "      <th>premier-league-2009-2010</th>\n",
       "      <td>2.518443</td>\n",
       "    </tr>\n",
       "    <tr>\n",
       "      <th>premier-league-2011-2012</th>\n",
       "      <td>2.533296</td>\n",
       "    </tr>\n",
       "    <tr>\n",
       "      <th>division-1-2009</th>\n",
       "      <td>2.534959</td>\n",
       "    </tr>\n",
       "    <tr>\n",
       "      <th>major-league-soccer-2009</th>\n",
       "      <td>2.554312</td>\n",
       "    </tr>\n",
       "    <tr>\n",
       "      <th>campeonato-brasileiro-b-2009</th>\n",
       "      <td>2.573859</td>\n",
       "    </tr>\n",
       "    <tr>\n",
       "      <th>championship-2011-2012</th>\n",
       "      <td>2.584240</td>\n",
       "    </tr>\n",
       "    <tr>\n",
       "      <th>champions-league-2009-2010</th>\n",
       "      <td>2.594098</td>\n",
       "    </tr>\n",
       "    <tr>\n",
       "      <th>eredivisie-2009-2010</th>\n",
       "      <td>2.616919</td>\n",
       "    </tr>\n",
       "    <tr>\n",
       "      <th>major-league-soccer-2012</th>\n",
       "      <td>2.647977</td>\n",
       "    </tr>\n",
       "    <tr>\n",
       "      <th>allsvenskan-2012</th>\n",
       "      <td>2.664422</td>\n",
       "    </tr>\n",
       "    <tr>\n",
       "      <th>primera-division-2012-2013</th>\n",
       "      <td>2.665171</td>\n",
       "    </tr>\n",
       "    <tr>\n",
       "      <th>champions-league-2011-2012</th>\n",
       "      <td>2.675638</td>\n",
       "    </tr>\n",
       "    <tr>\n",
       "      <th>primera-division-2009-2010</th>\n",
       "      <td>2.680315</td>\n",
       "    </tr>\n",
       "    <tr>\n",
       "      <th>ligue-1-2009-2010</th>\n",
       "      <td>2.699723</td>\n",
       "    </tr>\n",
       "    <tr>\n",
       "      <th>tippeligaen-2012</th>\n",
       "      <td>2.704844</td>\n",
       "    </tr>\n",
       "    <tr>\n",
       "      <th>champions-league-2010-2011</th>\n",
       "      <td>2.709053</td>\n",
       "    </tr>\n",
       "    <tr>\n",
       "      <th>primera-division-2011-2012</th>\n",
       "      <td>2.710936</td>\n",
       "    </tr>\n",
       "    <tr>\n",
       "      <th>world-cup-2010</th>\n",
       "      <td>2.731793</td>\n",
       "    </tr>\n",
       "    <tr>\n",
       "      <th>primera-division-2010-2011</th>\n",
       "      <td>2.757920</td>\n",
       "    </tr>\n",
       "    <tr>\n",
       "      <th>premier-league-2009</th>\n",
       "      <td>2.766762</td>\n",
       "    </tr>\n",
       "    <tr>\n",
       "      <th>campeonato-brasileiro-2012</th>\n",
       "      <td>2.772777</td>\n",
       "    </tr>\n",
       "    <tr>\n",
       "      <th>2-bundesliga-2009-2010</th>\n",
       "      <td>2.783906</td>\n",
       "    </tr>\n",
       "    <tr>\n",
       "      <th>champions-league-2012-2013</th>\n",
       "      <td>2.786819</td>\n",
       "    </tr>\n",
       "    <tr>\n",
       "      <th>euro-2012</th>\n",
       "      <td>2.824402</td>\n",
       "    </tr>\n",
       "    <tr>\n",
       "      <th>jupiler-league-2009-2010</th>\n",
       "      <td>2.825219</td>\n",
       "    </tr>\n",
       "    <tr>\n",
       "      <th>championship-2009-2010</th>\n",
       "      <td>2.828902</td>\n",
       "    </tr>\n",
       "    <tr>\n",
       "      <th>super-league-2009-2010</th>\n",
       "      <td>2.833195</td>\n",
       "    </tr>\n",
       "    <tr>\n",
       "      <th>gambrinus-liga-2009-2010</th>\n",
       "      <td>2.847995</td>\n",
       "    </tr>\n",
       "    <tr>\n",
       "      <th>veikkausliiga-2012</th>\n",
       "      <td>2.855993</td>\n",
       "    </tr>\n",
       "    <tr>\n",
       "      <th>tippeligaen-2011</th>\n",
       "      <td>2.859878</td>\n",
       "    </tr>\n",
       "    <tr>\n",
       "      <th>allsvenskan-2011</th>\n",
       "      <td>2.861014</td>\n",
       "    </tr>\n",
       "    <tr>\n",
       "      <th>primera-division-2010</th>\n",
       "      <td>2.870474</td>\n",
       "    </tr>\n",
       "  </tbody>\n",
       "</table>\n",
       "</div>"
      ],
      "text/plain": [
       "                              MarginOP\n",
       "Tournament                            \n",
       "serie-a-2012-2013             2.023726\n",
       "serie-a-2011-2012             2.051933\n",
       "serie-a-2010-2011             2.136468\n",
       "serie-a-2009-2010             2.148672\n",
       "veikkausliiga-2009            2.236222\n",
       "2-bundesliga-2011-2012        2.244298\n",
       "tippeligaen-2009              2.269438\n",
       "bundesliga-2012-2013          2.323632\n",
       "bundesliga-2011-2012          2.372986\n",
       "allsvenskan-2009              2.374360\n",
       "premier-league-2010-2011      2.431740\n",
       "campeonato-brasileiro-2009    2.453969\n",
       "ligue-1-2012-2013             2.459887\n",
       "bundesliga-2010-2011          2.468357\n",
       "bundesliga-2009-2010          2.474822\n",
       "premier-league-2012-2013      2.492852\n",
       "ligue-1-2011-2012             2.514859\n",
       "championship-2012-2013        2.516588\n",
       "premier-league-2009-2010      2.518443\n",
       "premier-league-2011-2012      2.533296\n",
       "division-1-2009               2.534959\n",
       "major-league-soccer-2009      2.554312\n",
       "campeonato-brasileiro-b-2009  2.573859\n",
       "championship-2011-2012        2.584240\n",
       "champions-league-2009-2010    2.594098\n",
       "eredivisie-2009-2010          2.616919\n",
       "major-league-soccer-2012      2.647977\n",
       "allsvenskan-2012              2.664422\n",
       "primera-division-2012-2013    2.665171\n",
       "champions-league-2011-2012    2.675638\n",
       "primera-division-2009-2010    2.680315\n",
       "ligue-1-2009-2010             2.699723\n",
       "tippeligaen-2012              2.704844\n",
       "champions-league-2010-2011    2.709053\n",
       "primera-division-2011-2012    2.710936\n",
       "world-cup-2010                2.731793\n",
       "primera-division-2010-2011    2.757920\n",
       "premier-league-2009           2.766762\n",
       "campeonato-brasileiro-2012    2.772777\n",
       "2-bundesliga-2009-2010        2.783906\n",
       "champions-league-2012-2013    2.786819\n",
       "euro-2012                     2.824402\n",
       "jupiler-league-2009-2010      2.825219\n",
       "championship-2009-2010        2.828902\n",
       "super-league-2009-2010        2.833195\n",
       "gambrinus-liga-2009-2010      2.847995\n",
       "veikkausliiga-2012            2.855993\n",
       "tippeligaen-2011              2.859878\n",
       "allsvenskan-2011              2.861014\n",
       "primera-division-2010         2.870474"
      ]
     },
     "execution_count": 58,
     "metadata": {},
     "output_type": "execute_result"
    }
   ],
   "source": [
    "leaguemargin = df.groupby('Tournament')[['MarginOP']].mean()\n",
    "leaguemargin.sort_values('MarginOP',ascending=True)[:50]"
   ]
  },
  {
   "cell_type": "code",
   "execution_count": null,
   "metadata": {},
   "outputs": [],
   "source": [
    "W linii zamknięcia włochy już nie mają pierwszeństwa. "
   ]
  },
  {
   "cell_type": "code",
   "execution_count": 59,
   "metadata": {},
   "outputs": [
    {
     "data": {
      "text/html": [
       "<div>\n",
       "<style scoped>\n",
       "    .dataframe tbody tr th:only-of-type {\n",
       "        vertical-align: middle;\n",
       "    }\n",
       "\n",
       "    .dataframe tbody tr th {\n",
       "        vertical-align: top;\n",
       "    }\n",
       "\n",
       "    .dataframe thead th {\n",
       "        text-align: right;\n",
       "    }\n",
       "</style>\n",
       "<table border=\"1\" class=\"dataframe\">\n",
       "  <thead>\n",
       "    <tr style=\"text-align: right;\">\n",
       "      <th></th>\n",
       "      <th>MarginCL</th>\n",
       "    </tr>\n",
       "    <tr>\n",
       "      <th>Tournament</th>\n",
       "      <th></th>\n",
       "    </tr>\n",
       "  </thead>\n",
       "  <tbody>\n",
       "    <tr>\n",
       "      <th>2-bundesliga-2011-2012</th>\n",
       "      <td>1.932187</td>\n",
       "    </tr>\n",
       "    <tr>\n",
       "      <th>serie-a-2012-2013</th>\n",
       "      <td>2.056112</td>\n",
       "    </tr>\n",
       "    <tr>\n",
       "      <th>championship-2011-2012</th>\n",
       "      <td>2.087618</td>\n",
       "    </tr>\n",
       "    <tr>\n",
       "      <th>2-bundesliga-2009-2010</th>\n",
       "      <td>2.087749</td>\n",
       "    </tr>\n",
       "    <tr>\n",
       "      <th>ligue-1-2012-2013</th>\n",
       "      <td>2.091252</td>\n",
       "    </tr>\n",
       "    <tr>\n",
       "      <th>championship-2012-2013</th>\n",
       "      <td>2.109416</td>\n",
       "    </tr>\n",
       "    <tr>\n",
       "      <th>serie-a-2011-2012</th>\n",
       "      <td>2.111739</td>\n",
       "    </tr>\n",
       "    <tr>\n",
       "      <th>championship-2010-2011</th>\n",
       "      <td>2.115700</td>\n",
       "    </tr>\n",
       "    <tr>\n",
       "      <th>allsvenskan-2011</th>\n",
       "      <td>2.133931</td>\n",
       "    </tr>\n",
       "    <tr>\n",
       "      <th>major-league-soccer-2011</th>\n",
       "      <td>2.140341</td>\n",
       "    </tr>\n",
       "    <tr>\n",
       "      <th>ligue-1-2011-2012</th>\n",
       "      <td>2.146349</td>\n",
       "    </tr>\n",
       "    <tr>\n",
       "      <th>championship-2009-2010</th>\n",
       "      <td>2.160452</td>\n",
       "    </tr>\n",
       "    <tr>\n",
       "      <th>major-league-soccer-2010</th>\n",
       "      <td>2.163070</td>\n",
       "    </tr>\n",
       "    <tr>\n",
       "      <th>campeonato-brasileiro-2011</th>\n",
       "      <td>2.170515</td>\n",
       "    </tr>\n",
       "    <tr>\n",
       "      <th>serie-a-2010-2011</th>\n",
       "      <td>2.173983</td>\n",
       "    </tr>\n",
       "    <tr>\n",
       "      <th>premier-league-2010-2011</th>\n",
       "      <td>2.175857</td>\n",
       "    </tr>\n",
       "    <tr>\n",
       "      <th>division-1-2009</th>\n",
       "      <td>2.178082</td>\n",
       "    </tr>\n",
       "    <tr>\n",
       "      <th>campeonato-brasileiro-2010</th>\n",
       "      <td>2.185719</td>\n",
       "    </tr>\n",
       "    <tr>\n",
       "      <th>serie-a-2009-2010</th>\n",
       "      <td>2.187831</td>\n",
       "    </tr>\n",
       "    <tr>\n",
       "      <th>bundesliga-2009-2010</th>\n",
       "      <td>2.193284</td>\n",
       "    </tr>\n",
       "    <tr>\n",
       "      <th>ligue-1-2010-2011</th>\n",
       "      <td>2.196907</td>\n",
       "    </tr>\n",
       "    <tr>\n",
       "      <th>campeonato-brasileiro-2009</th>\n",
       "      <td>2.197619</td>\n",
       "    </tr>\n",
       "    <tr>\n",
       "      <th>allsvenskan-2010</th>\n",
       "      <td>2.199076</td>\n",
       "    </tr>\n",
       "    <tr>\n",
       "      <th>premier-league-2009-2010</th>\n",
       "      <td>2.201920</td>\n",
       "    </tr>\n",
       "    <tr>\n",
       "      <th>bundesliga-2012-2013</th>\n",
       "      <td>2.212822</td>\n",
       "    </tr>\n",
       "    <tr>\n",
       "      <th>tippeligaen-2012</th>\n",
       "      <td>2.237409</td>\n",
       "    </tr>\n",
       "    <tr>\n",
       "      <th>major-league-soccer-2012</th>\n",
       "      <td>2.247681</td>\n",
       "    </tr>\n",
       "    <tr>\n",
       "      <th>bundesliga-2011-2012</th>\n",
       "      <td>2.265164</td>\n",
       "    </tr>\n",
       "    <tr>\n",
       "      <th>tippeligaen-2009</th>\n",
       "      <td>2.265246</td>\n",
       "    </tr>\n",
       "    <tr>\n",
       "      <th>ligue-1-2009-2010</th>\n",
       "      <td>2.265613</td>\n",
       "    </tr>\n",
       "    <tr>\n",
       "      <th>allsvenskan-2012</th>\n",
       "      <td>2.284652</td>\n",
       "    </tr>\n",
       "    <tr>\n",
       "      <th>tippeligaen-2011</th>\n",
       "      <td>2.288674</td>\n",
       "    </tr>\n",
       "    <tr>\n",
       "      <th>tippeligaen-2010</th>\n",
       "      <td>2.309059</td>\n",
       "    </tr>\n",
       "    <tr>\n",
       "      <th>premier-league-2011-2012</th>\n",
       "      <td>2.310764</td>\n",
       "    </tr>\n",
       "    <tr>\n",
       "      <th>primera-division-2010-2011</th>\n",
       "      <td>2.314855</td>\n",
       "    </tr>\n",
       "    <tr>\n",
       "      <th>bundesliga-2010-2011</th>\n",
       "      <td>2.325499</td>\n",
       "    </tr>\n",
       "    <tr>\n",
       "      <th>veikkausliiga-2009</th>\n",
       "      <td>2.325908</td>\n",
       "    </tr>\n",
       "    <tr>\n",
       "      <th>premier-league-2012-2013</th>\n",
       "      <td>2.350761</td>\n",
       "    </tr>\n",
       "    <tr>\n",
       "      <th>campeonato-brasileiro-2012</th>\n",
       "      <td>2.380170</td>\n",
       "    </tr>\n",
       "    <tr>\n",
       "      <th>primera-division-2012-2013</th>\n",
       "      <td>2.384136</td>\n",
       "    </tr>\n",
       "    <tr>\n",
       "      <th>allsvenskan-2009</th>\n",
       "      <td>2.395039</td>\n",
       "    </tr>\n",
       "    <tr>\n",
       "      <th>primera-division-2011-2012</th>\n",
       "      <td>2.420990</td>\n",
       "    </tr>\n",
       "    <tr>\n",
       "      <th>major-league-soccer-2009</th>\n",
       "      <td>2.425653</td>\n",
       "    </tr>\n",
       "    <tr>\n",
       "      <th>eredivisie-2009-2010</th>\n",
       "      <td>2.428694</td>\n",
       "    </tr>\n",
       "    <tr>\n",
       "      <th>veikkausliiga-2012</th>\n",
       "      <td>2.447956</td>\n",
       "    </tr>\n",
       "    <tr>\n",
       "      <th>premier-league-2012</th>\n",
       "      <td>2.475288</td>\n",
       "    </tr>\n",
       "    <tr>\n",
       "      <th>super-league-2009-2010</th>\n",
       "      <td>2.481803</td>\n",
       "    </tr>\n",
       "    <tr>\n",
       "      <th>primera-division-2009-2010</th>\n",
       "      <td>2.482909</td>\n",
       "    </tr>\n",
       "    <tr>\n",
       "      <th>champions-league-2010-2011</th>\n",
       "      <td>2.486071</td>\n",
       "    </tr>\n",
       "    <tr>\n",
       "      <th>eerste-divisie-2009-2010</th>\n",
       "      <td>2.513653</td>\n",
       "    </tr>\n",
       "  </tbody>\n",
       "</table>\n",
       "</div>"
      ],
      "text/plain": [
       "                            MarginCL\n",
       "Tournament                          \n",
       "2-bundesliga-2011-2012      1.932187\n",
       "serie-a-2012-2013           2.056112\n",
       "championship-2011-2012      2.087618\n",
       "2-bundesliga-2009-2010      2.087749\n",
       "ligue-1-2012-2013           2.091252\n",
       "championship-2012-2013      2.109416\n",
       "serie-a-2011-2012           2.111739\n",
       "championship-2010-2011      2.115700\n",
       "allsvenskan-2011            2.133931\n",
       "major-league-soccer-2011    2.140341\n",
       "ligue-1-2011-2012           2.146349\n",
       "championship-2009-2010      2.160452\n",
       "major-league-soccer-2010    2.163070\n",
       "campeonato-brasileiro-2011  2.170515\n",
       "serie-a-2010-2011           2.173983\n",
       "premier-league-2010-2011    2.175857\n",
       "division-1-2009             2.178082\n",
       "campeonato-brasileiro-2010  2.185719\n",
       "serie-a-2009-2010           2.187831\n",
       "bundesliga-2009-2010        2.193284\n",
       "ligue-1-2010-2011           2.196907\n",
       "campeonato-brasileiro-2009  2.197619\n",
       "allsvenskan-2010            2.199076\n",
       "premier-league-2009-2010    2.201920\n",
       "bundesliga-2012-2013        2.212822\n",
       "tippeligaen-2012            2.237409\n",
       "major-league-soccer-2012    2.247681\n",
       "bundesliga-2011-2012        2.265164\n",
       "tippeligaen-2009            2.265246\n",
       "ligue-1-2009-2010           2.265613\n",
       "allsvenskan-2012            2.284652\n",
       "tippeligaen-2011            2.288674\n",
       "tippeligaen-2010            2.309059\n",
       "premier-league-2011-2012    2.310764\n",
       "primera-division-2010-2011  2.314855\n",
       "bundesliga-2010-2011        2.325499\n",
       "veikkausliiga-2009          2.325908\n",
       "premier-league-2012-2013    2.350761\n",
       "campeonato-brasileiro-2012  2.380170\n",
       "primera-division-2012-2013  2.384136\n",
       "allsvenskan-2009            2.395039\n",
       "primera-division-2011-2012  2.420990\n",
       "major-league-soccer-2009    2.425653\n",
       "eredivisie-2009-2010        2.428694\n",
       "veikkausliiga-2012          2.447956\n",
       "premier-league-2012         2.475288\n",
       "super-league-2009-2010      2.481803\n",
       "primera-division-2009-2010  2.482909\n",
       "champions-league-2010-2011  2.486071\n",
       "eerste-divisie-2009-2010    2.513653"
      ]
     },
     "execution_count": 59,
     "metadata": {},
     "output_type": "execute_result"
    }
   ],
   "source": [
    "leaguemargin = df.groupby('Tournament')[['MarginCL']].mean()\n",
    "leaguemargin.sort_values('MarginCL',ascending=True)[:50]"
   ]
  },
  {
   "cell_type": "markdown",
   "metadata": {},
   "source": [
    "Dla ciekawostki sprawdźmy, jaką była ilość udanych strzałów w ligach. Oczywiście, że wybiórka meczów z każdej ligi jest mała dla jakichkolwiek wniosków, ale tutaj można znaleźć ciekawy mit o południowoamerykańskich ligach:\n",
    "\n",
    "Niby wiadomo, że tam grają w bardzo atakujący football, ale na praktyce tak się dzieje tylko w niektórych miejscowościach Brazylii. Tutaj widzimy potwierdzenie tego, że w \"prim-b-metropolitana\", \"primera-b-nacional\" i \"campeonato-brasileiro\" było mniej niż 2,5 bramek za mecz (wtedy jak średnia ilość w świecie to 2,6-2,7 bramek). Scouting oddziały już dawno to znają, ale w głowach kibiców jeszcze istnieje ten mit o Południowej Ameryce."
   ]
  },
  {
   "cell_type": "code",
   "execution_count": 62,
   "metadata": {},
   "outputs": [
    {
     "data": {
      "text/html": [
       "<div>\n",
       "<style scoped>\n",
       "    .dataframe tbody tr th:only-of-type {\n",
       "        vertical-align: middle;\n",
       "    }\n",
       "\n",
       "    .dataframe tbody tr th {\n",
       "        vertical-align: top;\n",
       "    }\n",
       "\n",
       "    .dataframe thead th {\n",
       "        text-align: right;\n",
       "    }\n",
       "</style>\n",
       "<table border=\"1\" class=\"dataframe\">\n",
       "  <thead>\n",
       "    <tr style=\"text-align: right;\">\n",
       "      <th></th>\n",
       "      <th>TOTAL FT</th>\n",
       "    </tr>\n",
       "    <tr>\n",
       "      <th>Tournament</th>\n",
       "      <th></th>\n",
       "    </tr>\n",
       "  </thead>\n",
       "  <tbody>\n",
       "    <tr>\n",
       "      <th>2-bundesliga-2009-2010</th>\n",
       "      <td>1.500000</td>\n",
       "    </tr>\n",
       "    <tr>\n",
       "      <th>challenge-league-2009-2010</th>\n",
       "      <td>1.500000</td>\n",
       "    </tr>\n",
       "    <tr>\n",
       "      <th>prim-b-metropolitana-2011-2012</th>\n",
       "      <td>2.000000</td>\n",
       "    </tr>\n",
       "    <tr>\n",
       "      <th>primera-b-nacional-2010-2011</th>\n",
       "      <td>2.127273</td>\n",
       "    </tr>\n",
       "    <tr>\n",
       "      <th>1-hnl-2010-2011</th>\n",
       "      <td>2.178218</td>\n",
       "    </tr>\n",
       "    <tr>\n",
       "      <th>super-league-2012-2013</th>\n",
       "      <td>2.181818</td>\n",
       "    </tr>\n",
       "    <tr>\n",
       "      <th>primera-b-nacional-2012-2013</th>\n",
       "      <td>2.183099</td>\n",
       "    </tr>\n",
       "    <tr>\n",
       "      <th>ekstraklasa-2011-2012</th>\n",
       "      <td>2.195833</td>\n",
       "    </tr>\n",
       "    <tr>\n",
       "      <th>primera-b-nacional-2011-2012</th>\n",
       "      <td>2.199446</td>\n",
       "    </tr>\n",
       "    <tr>\n",
       "      <th>ekstraklasa-2009-2010</th>\n",
       "      <td>2.267281</td>\n",
       "    </tr>\n",
       "    <tr>\n",
       "      <th>1-hnl-2011-2012</th>\n",
       "      <td>2.298851</td>\n",
       "    </tr>\n",
       "    <tr>\n",
       "      <th>super-league-2011-2012</th>\n",
       "      <td>2.340000</td>\n",
       "    </tr>\n",
       "    <tr>\n",
       "      <th>ligue-1-2010-2011</th>\n",
       "      <td>2.352151</td>\n",
       "    </tr>\n",
       "    <tr>\n",
       "      <th>ekstraklasa-2010-2011</th>\n",
       "      <td>2.379310</td>\n",
       "    </tr>\n",
       "    <tr>\n",
       "      <th>world-cup-2010</th>\n",
       "      <td>2.384354</td>\n",
       "    </tr>\n",
       "    <tr>\n",
       "      <th>premier-league-2009</th>\n",
       "      <td>2.392550</td>\n",
       "    </tr>\n",
       "    <tr>\n",
       "      <th>ligue-1-2009-2010</th>\n",
       "      <td>2.410053</td>\n",
       "    </tr>\n",
       "    <tr>\n",
       "      <th>euro-2012</th>\n",
       "      <td>2.431280</td>\n",
       "    </tr>\n",
       "    <tr>\n",
       "      <th>gambrinus-liga-2009-2010</th>\n",
       "      <td>2.433498</td>\n",
       "    </tr>\n",
       "    <tr>\n",
       "      <th>portuguese-liga-2010-2011</th>\n",
       "      <td>2.434043</td>\n",
       "    </tr>\n",
       "    <tr>\n",
       "      <th>1-hnl-2012-2013</th>\n",
       "      <td>2.438095</td>\n",
       "    </tr>\n",
       "    <tr>\n",
       "      <th>allsvenskan-2009</th>\n",
       "      <td>2.448598</td>\n",
       "    </tr>\n",
       "    <tr>\n",
       "      <th>europa-league-2011-2012</th>\n",
       "      <td>2.451777</td>\n",
       "    </tr>\n",
       "    <tr>\n",
       "      <th>premier-league-2010</th>\n",
       "      <td>2.461735</td>\n",
       "    </tr>\n",
       "    <tr>\n",
       "      <th>portuguese-liga-2009-2010</th>\n",
       "      <td>2.465217</td>\n",
       "    </tr>\n",
       "    <tr>\n",
       "      <th>allsvenskan-2010</th>\n",
       "      <td>2.472803</td>\n",
       "    </tr>\n",
       "    <tr>\n",
       "      <th>major-league-soccer-2010</th>\n",
       "      <td>2.473251</td>\n",
       "    </tr>\n",
       "    <tr>\n",
       "      <th>campeonato-brasileiro-2012</th>\n",
       "      <td>2.473684</td>\n",
       "    </tr>\n",
       "    <tr>\n",
       "      <th>primera-division-2011-2012</th>\n",
       "      <td>2.499546</td>\n",
       "    </tr>\n",
       "    <tr>\n",
       "      <th>primera-b-nacional-2009-2010</th>\n",
       "      <td>2.500000</td>\n",
       "    </tr>\n",
       "    <tr>\n",
       "      <th>division-1-2012</th>\n",
       "      <td>2.500000</td>\n",
       "    </tr>\n",
       "    <tr>\n",
       "      <th>superliga-2009-2010</th>\n",
       "      <td>2.501176</td>\n",
       "    </tr>\n",
       "    <tr>\n",
       "      <th>ekstraklasa-2012-2013</th>\n",
       "      <td>2.508333</td>\n",
       "    </tr>\n",
       "    <tr>\n",
       "      <th>ligat-ha-al-2010-2011</th>\n",
       "      <td>2.511211</td>\n",
       "    </tr>\n",
       "    <tr>\n",
       "      <th>ligue-1-2011-2012</th>\n",
       "      <td>2.511873</td>\n",
       "    </tr>\n",
       "    <tr>\n",
       "      <th>serie-a-2010-2011</th>\n",
       "      <td>2.527322</td>\n",
       "    </tr>\n",
       "    <tr>\n",
       "      <th>major-league-soccer-2009</th>\n",
       "      <td>2.529954</td>\n",
       "    </tr>\n",
       "    <tr>\n",
       "      <th>ligat-ha-al-2011-2012</th>\n",
       "      <td>2.534799</td>\n",
       "    </tr>\n",
       "    <tr>\n",
       "      <th>super-league-2010-2011</th>\n",
       "      <td>2.538462</td>\n",
       "    </tr>\n",
       "    <tr>\n",
       "      <th>primera-division-2012-2013</th>\n",
       "      <td>2.539604</td>\n",
       "    </tr>\n",
       "    <tr>\n",
       "      <th>primera-division-2010-2011</th>\n",
       "      <td>2.542543</td>\n",
       "    </tr>\n",
       "    <tr>\n",
       "      <th>champions-league-2009-2010</th>\n",
       "      <td>2.546392</td>\n",
       "    </tr>\n",
       "    <tr>\n",
       "      <th>serie-a-2011-2012</th>\n",
       "      <td>2.554090</td>\n",
       "    </tr>\n",
       "    <tr>\n",
       "      <th>a-league-2009-2010</th>\n",
       "      <td>2.557252</td>\n",
       "    </tr>\n",
       "    <tr>\n",
       "      <th>major-league-soccer-2011</th>\n",
       "      <td>2.561688</td>\n",
       "    </tr>\n",
       "    <tr>\n",
       "      <th>ligat-ha-al-2012-2013</th>\n",
       "      <td>2.569444</td>\n",
       "    </tr>\n",
       "    <tr>\n",
       "      <th>championship-2011-2012</th>\n",
       "      <td>2.570916</td>\n",
       "    </tr>\n",
       "    <tr>\n",
       "      <th>eerste-divisie-2009-2010</th>\n",
       "      <td>2.571429</td>\n",
       "    </tr>\n",
       "    <tr>\n",
       "      <th>campeonato-brasileiro-2010</th>\n",
       "      <td>2.583554</td>\n",
       "    </tr>\n",
       "    <tr>\n",
       "      <th>belgacom-league-2009-2010</th>\n",
       "      <td>2.591304</td>\n",
       "    </tr>\n",
       "  </tbody>\n",
       "</table>\n",
       "</div>"
      ],
      "text/plain": [
       "                                TOTAL FT\n",
       "Tournament                              \n",
       "2-bundesliga-2009-2010          1.500000\n",
       "challenge-league-2009-2010      1.500000\n",
       "prim-b-metropolitana-2011-2012  2.000000\n",
       "primera-b-nacional-2010-2011    2.127273\n",
       "1-hnl-2010-2011                 2.178218\n",
       "super-league-2012-2013          2.181818\n",
       "primera-b-nacional-2012-2013    2.183099\n",
       "ekstraklasa-2011-2012           2.195833\n",
       "primera-b-nacional-2011-2012    2.199446\n",
       "ekstraklasa-2009-2010           2.267281\n",
       "1-hnl-2011-2012                 2.298851\n",
       "super-league-2011-2012          2.340000\n",
       "ligue-1-2010-2011               2.352151\n",
       "ekstraklasa-2010-2011           2.379310\n",
       "world-cup-2010                  2.384354\n",
       "premier-league-2009             2.392550\n",
       "ligue-1-2009-2010               2.410053\n",
       "euro-2012                       2.431280\n",
       "gambrinus-liga-2009-2010        2.433498\n",
       "portuguese-liga-2010-2011       2.434043\n",
       "1-hnl-2012-2013                 2.438095\n",
       "allsvenskan-2009                2.448598\n",
       "europa-league-2011-2012         2.451777\n",
       "premier-league-2010             2.461735\n",
       "portuguese-liga-2009-2010       2.465217\n",
       "allsvenskan-2010                2.472803\n",
       "major-league-soccer-2010        2.473251\n",
       "campeonato-brasileiro-2012      2.473684\n",
       "primera-division-2011-2012      2.499546\n",
       "primera-b-nacional-2009-2010    2.500000\n",
       "division-1-2012                 2.500000\n",
       "superliga-2009-2010             2.501176\n",
       "ekstraklasa-2012-2013           2.508333\n",
       "ligat-ha-al-2010-2011           2.511211\n",
       "ligue-1-2011-2012               2.511873\n",
       "serie-a-2010-2011               2.527322\n",
       "major-league-soccer-2009        2.529954\n",
       "ligat-ha-al-2011-2012           2.534799\n",
       "super-league-2010-2011          2.538462\n",
       "primera-division-2012-2013      2.539604\n",
       "primera-division-2010-2011      2.542543\n",
       "champions-league-2009-2010      2.546392\n",
       "serie-a-2011-2012               2.554090\n",
       "a-league-2009-2010              2.557252\n",
       "major-league-soccer-2011        2.561688\n",
       "ligat-ha-al-2012-2013           2.569444\n",
       "championship-2011-2012          2.570916\n",
       "eerste-divisie-2009-2010        2.571429\n",
       "campeonato-brasileiro-2010      2.583554\n",
       "belgacom-league-2009-2010       2.591304"
      ]
     },
     "execution_count": 62,
     "metadata": {},
     "output_type": "execute_result"
    }
   ],
   "source": [
    "leaguemargin = df.groupby('Tournament')[['TOTAL FT']].mean()\n",
    "leaguemargin.sort_values('TOTAL FT',ascending=True)[:50]"
   ]
  },
  {
   "cell_type": "code",
   "execution_count": 63,
   "metadata": {},
   "outputs": [
    {
     "name": "stdout",
     "output_type": "stream",
     "text": [
      "<class 'pandas.core.frame.DataFrame'>\n",
      "RangeIndex: 37853 entries, 0 to 37852\n",
      "Data columns (total 35 columns):\n",
      " #   Column        Non-Null Count  Dtype  \n",
      "---  ------        --------------  -----  \n",
      " 0   Year          37853 non-null  int64  \n",
      " 1   Date          37853 non-null  object \n",
      " 2   Country       37853 non-null  object \n",
      " 3   Tournament    37853 non-null  object \n",
      " 4   Match         37853 non-null  object \n",
      " 5   Opening odds  37853 non-null  float64\n",
      " 6   XOP           37853 non-null  float64\n",
      " 7   WIN2-op       37853 non-null  float64\n",
      " 8   Closing odds  37853 non-null  float64\n",
      " 9   XCL           37853 non-null  float64\n",
      " 10  WIN2-cl       37853 non-null  float64\n",
      " 11  HT            37831 non-null  object \n",
      " 12  FT            37853 non-null  object \n",
      " 13  TOTAL FT      37853 non-null  int64  \n",
      " 14  HTG1          37831 non-null  float64\n",
      " 15  HTG2          37831 non-null  float64\n",
      " 16  FTG1          37853 non-null  int64  \n",
      " 17  FTG2          37853 non-null  int64  \n",
      " 18  BET1          37853 non-null  int64  \n",
      " 19  BETX          37853 non-null  int64  \n",
      " 20  BET2          37853 non-null  int64  \n",
      " 21  W1            37853 non-null  float64\n",
      " 22  X2            37853 non-null  float64\n",
      " 23  W2            37853 non-null  float64\n",
      " 24  W18           37853 non-null  float64\n",
      " 25  X9            37853 non-null  float64\n",
      " 26  W210          37853 non-null  float64\n",
      " 27  MarginOP      37853 non-null  float64\n",
      " 28  MarginCL      37853 non-null  float64\n",
      " 29  WIN1OP        37853 non-null  float64\n",
      " 30  XOP.1         37853 non-null  float64\n",
      " 31  WIN2OP        37853 non-null  float64\n",
      " 32  WIN1CL        37853 non-null  float64\n",
      " 33  XCL.1         37853 non-null  float64\n",
      " 34  WIN2CL        37853 non-null  float64\n",
      "dtypes: float64(22), int64(7), object(6)\n",
      "memory usage: 10.1+ MB\n"
     ]
    }
   ],
   "source": [
    "df.info()"
   ]
  },
  {
   "cell_type": "markdown",
   "metadata": {},
   "source": [
    "W datasecie mamy kolumny 'WIN1OP', 'XOP.1', 'WIN2OP', 'WIN1CL', 'XCL.1', 'WIN2CL'. Kolumna 'WIN1OP' zawiera formule: ('W1' - 1). Natomiast kolumna 'W1' zawiera formulę: ('Opening odds' * BET1). W 'BET 1' są tylko dane 1 - wygrasz i 0 - przegrasz. Na końcu w kolumnie 'WIN1OP' w razie wygrania otrzymujemy czysty zysk, a w razie przegrania mamy -1. Czyli po prostu odejmujemy zysk od ilości zrobionych zakładów. Dla innych kolumn formułę są zrobione w ten sam sposób.\n",
    "\n",
    "Teraz sprawdźmy, co będzie, gdy na każdy mecz z datasetu robić zakłady w kwocie 1 zł na jeden mecz po kolei. Czyli w przykładzie #1 róbmy zakłady tylko na WIN1 w linii otwarcia."
   ]
  },
  {
   "cell_type": "code",
   "execution_count": 74,
   "metadata": {},
   "outputs": [
    {
     "data": {
      "text/plain": [
       "-670.1800000000002"
      ]
     },
     "execution_count": 74,
     "metadata": {},
     "output_type": "execute_result"
    }
   ],
   "source": [
    "#1\n",
    "df['WIN1OP'].sum()\n",
    "#otzymaliśmy negatywny wynik i przegrali 670 zł. \n",
    "#Jeżeli robić zakłady w kwocie 100 zł, to bym dostaliśmy -6701 zł"
   ]
  },
  {
   "cell_type": "code",
   "execution_count": 66,
   "metadata": {},
   "outputs": [
    {
     "data": {
      "text/plain": [
       "-1484.98"
      ]
     },
     "execution_count": 66,
     "metadata": {},
     "output_type": "execute_result"
    }
   ],
   "source": [
    "df['XOP.1'].sum()"
   ]
  },
  {
   "cell_type": "code",
   "execution_count": 68,
   "metadata": {},
   "outputs": [
    {
     "data": {
      "text/plain": [
       "-1312.8100000000002"
      ]
     },
     "execution_count": 68,
     "metadata": {},
     "output_type": "execute_result"
    }
   ],
   "source": [
    "df['WIN2OP'].sum()"
   ]
  },
  {
   "cell_type": "code",
   "execution_count": 69,
   "metadata": {},
   "outputs": [
    {
     "data": {
      "text/plain": [
       "-709.73"
      ]
     },
     "execution_count": 69,
     "metadata": {},
     "output_type": "execute_result"
    }
   ],
   "source": [
    "df['WIN1CL'].sum()"
   ]
  },
  {
   "cell_type": "code",
   "execution_count": 70,
   "metadata": {},
   "outputs": [
    {
     "data": {
      "text/plain": [
       "-1319.3600000000001"
      ]
     },
     "execution_count": 70,
     "metadata": {},
     "output_type": "execute_result"
    }
   ],
   "source": [
    "df['XCL.1'].sum()"
   ]
  },
  {
   "cell_type": "code",
   "execution_count": 71,
   "metadata": {},
   "outputs": [
    {
     "data": {
      "text/plain": [
       "-1308.9599999999996"
      ]
     },
     "execution_count": 71,
     "metadata": {},
     "output_type": "execute_result"
    }
   ],
   "source": [
    "df['WIN2CL'].sum()"
   ]
  },
  {
   "cell_type": "markdown",
   "metadata": {},
   "source": [
    "Jeżeli robić zakłady tylko na jakiś konkretny wynik w sposób fiksowanej sumy na każdy mecz, to wszędzie otrzymamy negatywny wynik i stracimy pieniądze. Właśnie to jest w miare proste określenie tego, jak pracuję \"margin\" bukmachera.\n",
    "\n",
    "Wniosek: żeby wygrać u bukmachera trzeba koniecznie brać pod uwagę \"margin\" i znać, w jaki okres pomiędzy otwarciem i zamknięciem wchodzić na rynek, ale to już kwestia innego badania."
   ]
  },
  {
   "cell_type": "markdown",
   "metadata": {},
   "source": [
    "Ogólny wniosek: na podstawie zbioru >37000 już można zrobić w miarę prawdziwy wniosek o tym, że niemożliwe jest wygrać u bukmachera nie biorąc pod uwagę \"margin\", który on zakłada. Także taka ilość danych potwierdza, że bliżej do meczu sytuacja wokół tego meczu jest bardziej przewidywalna i dlatego bukmacher zmniejsza \"margin\", zwiększając kursy na mecz.\n",
    "\n",
    "Oraz udało się zobaczyć, że jeżeli robić fiksowane zakłady w rozmiarze 1 unit na jeden i tylko jeden wynik (na przykład WIN1), to na dystancji 37000-38000 meczów najmniej pieniądze będzie przegranę, jeżeli wybierać zwycięstwo gospodarze meczu. Różnicy pomiędzy remisem a zwycięstwom gości praktycznie nie ma.\n",
    "\n",
    "Tak że na podstawie tego datasetu udało się znaleźć przykład bardziej z samej kuchni piłki nożnej w postaci bramek w południowej Ameryce.\n",
    "\n",
    "Co jeszcze można zrobić z tym datasetem?\n",
    "1. Randomizowaną symulację dystansu w okresie podanej ilości meczów, żeby zobaczyć, ile podejść ze 100 daje pozytywny ROI.\n",
    "2. Zbadać sposób gry tego syndykatu.\n",
    "3. Dostać szczegóły kursów i wyników z każdej ligi/kraju.\n",
    "4. Szczegółowo rozebrać jak działa \"margin\" Pinnacle."
   ]
  },
  {
   "cell_type": "markdown",
   "metadata": {},
   "source": [
    "Na koniec w postaci ciekawostki trochę wizualizacji."
   ]
  },
  {
   "cell_type": "markdown",
   "metadata": {},
   "source": [
    "Mamy viz, że większość kursów układają się w próg do 10 na wynik."
   ]
  },
  {
   "cell_type": "code",
   "execution_count": 38,
   "metadata": {},
   "outputs": [
    {
     "data": {
      "text/plain": [
       "<matplotlib.axes._subplots.AxesSubplot at 0x7f2bf07d4518>"
      ]
     },
     "execution_count": 38,
     "metadata": {},
     "output_type": "execute_result"
    },
    {
     "data": {
      "image/png": "[encoded data removed]",
      "text/plain": [
       "<Figure size 864x432 with 1 Axes>"
      ]
     },
     "metadata": {
      "needs_background": "light"
     },
     "output_type": "display_data"
    }
   ],
   "source": [
    "df.plot.line(y='Opening odds', figsize = (12,6), lw=1)"
   ]
  },
  {
   "cell_type": "markdown",
   "metadata": {},
   "source": [
    "Porównamy rozbieżność kursów pomiędzy otwarciem i zamknięciem. Widzimy, że było 4 meczę, w których kurs na otwarciu był jak minimum wyżej 5, a w moment zamknięcia linii był już mniej 2."
   ]
  },
  {
   "cell_type": "code",
   "execution_count": 15,
   "metadata": {},
   "outputs": [
    {
     "data": {
      "text/plain": [
       "<matplotlib.axes._subplots.AxesSubplot at 0x7f2c430aa128>"
      ]
     },
     "execution_count": 15,
     "metadata": {},
     "output_type": "execute_result"
    },
    {
     "data": {
      "image/png": "[encoded data removed]",
      "text/plain": [
       "<Figure size 432x288 with 1 Axes>"
      ]
     },
     "metadata": {
      "needs_background": "light"
     },
     "output_type": "display_data"
    }
   ],
   "source": [
    "df.plot.scatter(x='Opening odds', y='Closing odds', c='DarkBlue')"
   ]
  },
  {
   "cell_type": "markdown",
   "metadata": {},
   "source": [
    "Na remisy podobnej anomalii już nie było."
   ]
  },
  {
   "cell_type": "code",
   "execution_count": 16,
   "metadata": {},
   "outputs": [
    {
     "data": {
      "text/plain": [
       "<matplotlib.axes._subplots.AxesSubplot at 0x7f2c42f3efd0>"
      ]
     },
     "execution_count": 16,
     "metadata": {},
     "output_type": "execute_result"
    },
    {
     "data": {
      "image/png": "[encoded data removed]",
      "text/plain": [
       "<Figure size 432x288 with 1 Axes>"
      ]
     },
     "metadata": {
      "needs_background": "light"
     },
     "output_type": "display_data"
    }
   ],
   "source": [
    "df.plot.scatter(x='XOP', y='XCL', c='DarkBlue')"
   ]
  },
  {
   "cell_type": "markdown",
   "metadata": {},
   "source": [
    "A na WIN2 widzimy, że najbardziej wysoką rozbieżność w ocenie wiarogodności zwycięstwa."
   ]
  },
  {
   "cell_type": "code",
   "execution_count": 18,
   "metadata": {},
   "outputs": [
    {
     "data": {
      "text/plain": [
       "<matplotlib.axes._subplots.AxesSubplot at 0x7f2c44701b70>"
      ]
     },
     "execution_count": 18,
     "metadata": {},
     "output_type": "execute_result"
    },
    {
     "data": {
      "image/png": "[encoded data removed]",
      "text/plain": [
       "<Figure size 432x288 with 1 Axes>"
      ]
     },
     "metadata": {
      "needs_background": "light"
     },
     "output_type": "display_data"
    }
   ],
   "source": [
    "df.plot.scatter(x='WIN2-op', y='WIN2-cl', c='DarkBlue')"
   ]
  }
 ],
 "metadata": {
  "kernelspec": {
   "display_name": "Python 3",
   "language": "python",
   "name": "python3"
  },
  "language_info": {
   "codemirror_mode": {
    "name": "ipython",
    "version": 3
   },
   "file_extension": ".py",
   "mimetype": "text/x-python",
   "name": "python",
   "nbconvert_exporter": "python",
   "pygments_lexer": "ipython3",
   "version": "3.6.10"
  }
 },
 "nbformat": 4,
 "nbformat_minor": 4
}
